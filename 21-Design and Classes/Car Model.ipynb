{
 "cells": [
  {
   "cell_type": "code",
   "execution_count": 1,
   "metadata": {},
   "outputs": [],
   "source": [
    "import pandas as pd\n",
    "import build_road\n",
    "import sys\n",
    "from Road import Road"
   ]
  },
  {
   "cell_type": "code",
   "execution_count": 4,
   "metadata": {},
   "outputs": [],
   "source": [
    "class Car(object):\n",
    "    \n",
    "    \"\"\"\n",
    "    Base class for a car\n",
    "    \"\"\"\n",
    "    def __init__(self, color,location,direction):\n",
    "        if len(location) < 2 or len(location) > 2:\n",
    "            print('location is the x,y coordinates of the car')\n",
    "        else:    \n",
    "            self.color = color\n",
    "            self.location = location\n",
    "            self.x = location[0] \n",
    "            self.y = location[1]\n",
    "            self.direction = direction"
   ]
  },
  {
   "cell_type": "code",
   "execution_count": 6,
   "metadata": {},
   "outputs": [],
   "source": [
    "def go(self,units,movement):\n",
    "    \"\"\"\n",
    "    funtion to move car given distance and given direction\n",
    "    \"\"\"\n",
    "    if movement == 'forward':\n",
    "        \n",
    "        if self.direction == 'N':\n",
    "            self.y = self.y + units\n",
    "        elif self.direction == 'S':\n",
    "             self.y = self.y + units\n",
    "        elif self.direction == 'W':\n",
    "             self.x = self.x + units\n",
    "        elif self.direction == 'E':\n",
    "             self.x = self.x + units\n",
    "        else:\n",
    "            print('Direction options are N, S, E, and W')\n",
    "        self.location = [self.x,self.y]\n",
    "        \n",
    "    else:\n",
    "        print('Possible movements are forwards and backwards')"
   ]
  },
  {
   "cell_type": "code",
   "execution_count": 7,
   "metadata": {},
   "outputs": [],
   "source": [
    "def turn_right(self):\n",
    "    if self.direction == 'N':\n",
    "        self.direction = 'E'\n",
    "    elif self.direction == 'S':\n",
    "        self.direction = 'W'\n",
    "    elif self.direction == 'E':\n",
    "        self.direction = 'S'\n",
    "    elif self.direction == 'W':\n",
    "        self.direction = 'N'\n",
    "    else:\n",
    "        print('wrong direction')"
   ]
  },
  {
   "cell_type": "code",
   "execution_count": 8,
   "metadata": {},
   "outputs": [],
   "source": [
    "def turn_left(self):\n",
    "    if self.direction == 'N':\n",
    "        self.direction = 'W'\n",
    "    elif self.direction == 'S':\n",
    "        self.direction = 'E'\n",
    "    elif self.direction == 'E':\n",
    "        self.direction = 'N'\n",
    "    elif self.direction == 'W':\n",
    "        self.direction = 'S'\n",
    "    else:\n",
    "        print('wrong direction')"
   ]
  },
  {
   "cell_type": "code",
   "execution_count": 9,
   "metadata": {},
   "outputs": [],
   "source": [
    "car = Car(color = 'yellow',location = [0,0], direction = 'N')"
   ]
  },
  {
   "cell_type": "code",
   "execution_count": 10,
   "metadata": {},
   "outputs": [
    {
     "data": {
      "text/plain": [
       "'N'"
      ]
     },
     "execution_count": 10,
     "metadata": {},
     "output_type": "execute_result"
    }
   ],
   "source": [
    "car.direction"
   ]
  },
  {
   "cell_type": "code",
   "execution_count": 11,
   "metadata": {},
   "outputs": [
    {
     "data": {
      "text/plain": [
       "'yellow'"
      ]
     },
     "execution_count": 11,
     "metadata": {},
     "output_type": "execute_result"
    }
   ],
   "source": [
    "car.color"
   ]
  },
  {
   "cell_type": "code",
   "execution_count": 13,
   "metadata": {},
   "outputs": [],
   "source": [
    "gcar = Car(color = 'Green',location = [0,0], direction = 'N')"
   ]
  },
  {
   "cell_type": "code",
   "execution_count": 14,
   "metadata": {},
   "outputs": [],
   "source": [
    "go(car,2,'forward')\n",
    "turn_left(car)\n",
    "go(car,1,'forward')"
   ]
  },
  {
   "cell_type": "code",
   "execution_count": 15,
   "metadata": {},
   "outputs": [
    {
     "name": "stdout",
     "output_type": "stream",
     "text": [
      "yellow\n",
      "[1, 2]\n",
      "W\n"
     ]
    }
   ],
   "source": [
    "print(car.color)\n",
    "print(car.location)\n",
    "print(car.direction)"
   ]
  },
  {
   "cell_type": "code",
   "execution_count": 16,
   "metadata": {},
   "outputs": [],
   "source": [
    "turn_left(gcar)\n",
    "go(gcar,1,'forward')\n",
    "turn_right(gcar)\n",
    "go(gcar,2,'forward')"
   ]
  },
  {
   "cell_type": "code",
   "execution_count": 17,
   "metadata": {},
   "outputs": [
    {
     "name": "stdout",
     "output_type": "stream",
     "text": [
      "Green\n",
      "[1, 2]\n",
      "N\n"
     ]
    }
   ],
   "source": [
    "print(gcar.color)\n",
    "print(gcar.location)\n",
    "print(gcar.direction)"
   ]
  },
  {
   "cell_type": "code",
   "execution_count": null,
   "metadata": {},
   "outputs": [],
   "source": []
  }
 ],
 "metadata": {
  "kernelspec": {
   "display_name": "Python 3",
   "language": "python",
   "name": "python3"
  },
  "language_info": {
   "codemirror_mode": {
    "name": "ipython",
    "version": 3
   },
   "file_extension": ".py",
   "mimetype": "text/x-python",
   "name": "python",
   "nbconvert_exporter": "python",
   "pygments_lexer": "ipython3",
   "version": "3.7.1"
  }
 },
 "nbformat": 4,
 "nbformat_minor": 2
}
