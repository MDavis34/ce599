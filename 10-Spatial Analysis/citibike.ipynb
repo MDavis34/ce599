{
 "cells": [
  {
   "cell_type": "markdown",
   "metadata": {},
   "source": [
    "# Example: CitiBike data\n",
    "\n",
    "Adapted from Kelsey Jordahl\n",
    "https://gist.github.com/kjordahl/5957573"
   ]
  },
  {
   "cell_type": "code",
   "execution_count": 1,
   "metadata": {},
   "outputs": [],
   "source": [
    "import requests  \n",
    "import json\n",
    "from pyproj import Proj\n",
    "from shapely.geometry import Point\n",
    "import geopandas as gp"
   ]
  },
  {
   "cell_type": "markdown",
   "metadata": {},
   "source": [
    "NYC borough boundaries downloaded from [Bytes of the Big Apple](http://www.nyc.gov/html/dcp/download/bytes/nybb_13a.zip)"
   ]
  },
  {
   "cell_type": "code",
   "execution_count": 2,
   "metadata": {},
   "outputs": [],
   "source": [
    "boros = gp.GeoDataFrame.from_file('nybb_15b/nybb.shp')"
   ]
  },
  {
   "cell_type": "markdown",
   "metadata": {},
   "source": [
    "Load real time bike station data from [CitiBike](http://citibikenyc.com) json API:"
   ]
  },
  {
   "cell_type": "code",
   "execution_count": 3,
   "metadata": {},
   "outputs": [],
   "source": [
    "# get the bike data and convert it to a ditcionary\n",
    "endpoint_url = 'http://citibikenyc.com/stations/json'\n",
    "response = requests.get(endpoint_url)\n",
    "data = json.loads(response.text)\n"
   ]
  },
  {
   "cell_type": "code",
   "execution_count": 4,
   "metadata": {},
   "outputs": [
    {
     "data": {
      "text/html": [
       "<div>\n",
       "<style scoped>\n",
       "    .dataframe tbody tr th:only-of-type {\n",
       "        vertical-align: middle;\n",
       "    }\n",
       "\n",
       "    .dataframe tbody tr th {\n",
       "        vertical-align: top;\n",
       "    }\n",
       "\n",
       "    .dataframe thead th {\n",
       "        text-align: right;\n",
       "    }\n",
       "</style>\n",
       "<table border=\"1\" class=\"dataframe\">\n",
       "  <thead>\n",
       "    <tr style=\"text-align: right;\">\n",
       "      <th></th>\n",
       "      <th>altitude</th>\n",
       "      <th>availableBikes</th>\n",
       "      <th>availableDocks</th>\n",
       "      <th>city</th>\n",
       "      <th>id</th>\n",
       "      <th>landMark</th>\n",
       "      <th>lastCommunicationTime</th>\n",
       "      <th>latitude</th>\n",
       "      <th>location</th>\n",
       "      <th>longitude</th>\n",
       "      <th>postalCode</th>\n",
       "      <th>stAddress1</th>\n",
       "      <th>stAddress2</th>\n",
       "      <th>stationName</th>\n",
       "      <th>statusKey</th>\n",
       "      <th>statusValue</th>\n",
       "      <th>testStation</th>\n",
       "      <th>totalDocks</th>\n",
       "    </tr>\n",
       "  </thead>\n",
       "  <tbody>\n",
       "    <tr>\n",
       "      <th>0</th>\n",
       "      <td></td>\n",
       "      <td>29</td>\n",
       "      <td>25</td>\n",
       "      <td></td>\n",
       "      <td>72</td>\n",
       "      <td></td>\n",
       "      <td>2019-03-07 11:51:58 PM</td>\n",
       "      <td>40.767272</td>\n",
       "      <td></td>\n",
       "      <td>-73.993929</td>\n",
       "      <td></td>\n",
       "      <td>W 52 St &amp; 11 Ave</td>\n",
       "      <td></td>\n",
       "      <td>W 52 St &amp; 11 Ave</td>\n",
       "      <td>1</td>\n",
       "      <td>In Service</td>\n",
       "      <td>False</td>\n",
       "      <td>55</td>\n",
       "    </tr>\n",
       "    <tr>\n",
       "      <th>1</th>\n",
       "      <td></td>\n",
       "      <td>18</td>\n",
       "      <td>14</td>\n",
       "      <td></td>\n",
       "      <td>79</td>\n",
       "      <td></td>\n",
       "      <td>2019-03-07 11:51:26 PM</td>\n",
       "      <td>40.719116</td>\n",
       "      <td></td>\n",
       "      <td>-74.006667</td>\n",
       "      <td></td>\n",
       "      <td>Franklin St &amp; W Broadway</td>\n",
       "      <td></td>\n",
       "      <td>Franklin St &amp; W Broadway</td>\n",
       "      <td>1</td>\n",
       "      <td>In Service</td>\n",
       "      <td>False</td>\n",
       "      <td>33</td>\n",
       "    </tr>\n",
       "    <tr>\n",
       "      <th>2</th>\n",
       "      <td></td>\n",
       "      <td>20</td>\n",
       "      <td>7</td>\n",
       "      <td></td>\n",
       "      <td>82</td>\n",
       "      <td></td>\n",
       "      <td>2019-03-07 11:54:34 PM</td>\n",
       "      <td>40.711174</td>\n",
       "      <td></td>\n",
       "      <td>-74.000165</td>\n",
       "      <td></td>\n",
       "      <td>St James Pl &amp; Pearl St</td>\n",
       "      <td></td>\n",
       "      <td>St James Pl &amp; Pearl St</td>\n",
       "      <td>1</td>\n",
       "      <td>In Service</td>\n",
       "      <td>False</td>\n",
       "      <td>27</td>\n",
       "    </tr>\n",
       "    <tr>\n",
       "      <th>3</th>\n",
       "      <td></td>\n",
       "      <td>35</td>\n",
       "      <td>27</td>\n",
       "      <td></td>\n",
       "      <td>83</td>\n",
       "      <td></td>\n",
       "      <td>2019-03-07 11:54:46 PM</td>\n",
       "      <td>40.683826</td>\n",
       "      <td></td>\n",
       "      <td>-73.976323</td>\n",
       "      <td></td>\n",
       "      <td>Atlantic Ave &amp; Fort Greene Pl</td>\n",
       "      <td></td>\n",
       "      <td>Atlantic Ave &amp; Fort Greene Pl</td>\n",
       "      <td>1</td>\n",
       "      <td>In Service</td>\n",
       "      <td>False</td>\n",
       "      <td>62</td>\n",
       "    </tr>\n",
       "    <tr>\n",
       "      <th>4</th>\n",
       "      <td></td>\n",
       "      <td>12</td>\n",
       "      <td>7</td>\n",
       "      <td></td>\n",
       "      <td>119</td>\n",
       "      <td></td>\n",
       "      <td>2019-03-07 11:51:21 PM</td>\n",
       "      <td>40.696089</td>\n",
       "      <td></td>\n",
       "      <td>-73.978034</td>\n",
       "      <td></td>\n",
       "      <td>Park Ave &amp; St Edwards St</td>\n",
       "      <td></td>\n",
       "      <td>Park Ave &amp; St Edwards St</td>\n",
       "      <td>1</td>\n",
       "      <td>In Service</td>\n",
       "      <td>False</td>\n",
       "      <td>19</td>\n",
       "    </tr>\n",
       "  </tbody>\n",
       "</table>\n",
       "</div>"
      ],
      "text/plain": [
       "  altitude  availableBikes  availableDocks city   id landMark  \\\n",
       "0                       29              25        72            \n",
       "1                       18              14        79            \n",
       "2                       20               7        82            \n",
       "3                       35              27        83            \n",
       "4                       12               7       119            \n",
       "\n",
       "    lastCommunicationTime   latitude location  longitude postalCode  \\\n",
       "0  2019-03-07 11:51:58 PM  40.767272          -73.993929              \n",
       "1  2019-03-07 11:51:26 PM  40.719116          -74.006667              \n",
       "2  2019-03-07 11:54:34 PM  40.711174          -74.000165              \n",
       "3  2019-03-07 11:54:46 PM  40.683826          -73.976323              \n",
       "4  2019-03-07 11:51:21 PM  40.696089          -73.978034              \n",
       "\n",
       "                      stAddress1 stAddress2                    stationName  \\\n",
       "0               W 52 St & 11 Ave                          W 52 St & 11 Ave   \n",
       "1       Franklin St & W Broadway                  Franklin St & W Broadway   \n",
       "2         St James Pl & Pearl St                    St James Pl & Pearl St   \n",
       "3  Atlantic Ave & Fort Greene Pl             Atlantic Ave & Fort Greene Pl   \n",
       "4       Park Ave & St Edwards St                  Park Ave & St Edwards St   \n",
       "\n",
       "   statusKey statusValue  testStation  totalDocks  \n",
       "0          1  In Service        False          55  \n",
       "1          1  In Service        False          33  \n",
       "2          1  In Service        False          27  \n",
       "3          1  In Service        False          62  \n",
       "4          1  In Service        False          19  "
      ]
     },
     "execution_count": 4,
     "metadata": {},
     "output_type": "execute_result"
    }
   ],
   "source": [
    "# convert the relevant part to a geodataframe\n",
    "df = gp.GeoDataFrame(data['stationBeanList'])\n",
    "df.head()"
   ]
  },
  {
   "cell_type": "code",
   "execution_count": 5,
   "metadata": {},
   "outputs": [
    {
     "data": {
      "text/plain": [
       "817"
      ]
     },
     "execution_count": 5,
     "metadata": {},
     "output_type": "execute_result"
    }
   ],
   "source": [
    "# there is one row for each bike station.  How many stations are there? \n",
    "len(df)"
   ]
  },
  {
   "cell_type": "code",
   "execution_count": 9,
   "metadata": {},
   "outputs": [
    {
     "data": {
      "text/plain": [
       "array([-74.0836394 ,  40.65539977, -73.9077436 ,  40.81439444])"
      ]
     },
     "execution_count": 9,
     "metadata": {},
     "output_type": "execute_result"
    }
   ],
   "source": [
    "# in the file above, there are lon-lats, but no geometry field\n",
    "# we need to set that up\n",
    "\n",
    "s = gp.GeoSeries([Point(x, y) for x, y in zip(df['longitude'], df['latitude'])])\n",
    "df['geometry'] = s\n",
    "df.crs = {'init': 'epsg:4326', 'no_defs': True}\n",
    "df.geometry.total_bounds"
   ]
  },
  {
   "cell_type": "code",
   "execution_count": 10,
   "metadata": {},
   "outputs": [
    {
     "data": {
      "text/plain": [
       "array([ 961064.73659426,  178056.37414829, 1009803.53178432,\n",
       "        235986.42166716])"
      ]
     },
     "execution_count": 10,
     "metadata": {},
     "output_type": "execute_result"
    }
   ],
   "source": [
    "# make sure they are on the same CRS.  \n",
    "# checking the bounds is a nice way of seeing this\n",
    "df.to_crs(boros.crs, inplace=True)\n",
    "df.geometry.total_bounds"
   ]
  },
  {
   "cell_type": "code",
   "execution_count": 11,
   "metadata": {},
   "outputs": [
    {
     "name": "stdout",
     "output_type": "stream",
     "text": [
      "418 stations in Manhattan\n"
     ]
    }
   ],
   "source": [
    "# the geometry objects can do lots of cool stuff.  For example: \n",
    "\n",
    "manhattan = boros.geometry[3]\n",
    "in_mn = df.geometry.within(manhattan)\n",
    "print(sum(in_mn), 'stations in Manhattan')"
   ]
  },
  {
   "cell_type": "markdown",
   "metadata": {},
   "source": [
    "# Your turn\n",
    "\n",
    "You can read about the range of operations available in geopandas here: \n",
    "    \n",
    "http://geopandas.org/index.html\n",
    "\n",
    "Your assignment is to: \n",
    "\n",
    "1. Calculate how many stations are in each borough\n",
    "2. Calculate how many bikes are currently available in each borough\n",
    "3. Read about and try at least two new spatial or geometric operations (beyond what I've covered here). "
   ]
  },
  {
   "cell_type": "code",
   "execution_count": 16,
   "metadata": {
    "scrolled": true
   },
   "outputs": [
    {
     "name": "stdout",
     "output_type": "stream",
     "text": [
      "418 stations in Manhattan\n",
      "0 stations in Bronx\n",
      "267 stations in Brooklyn\n",
      "82 stations in Queens\n",
      "0 stations in Staten Island\n"
     ]
    }
   ],
   "source": [
    "# 1. Stations in each borough\n",
    "\n",
    "# Manhattan\n",
    "manhattan = boros.geometry[3]\n",
    "m_sta = df.geometry.within(manhattan)\n",
    "\n",
    "# Bronx\n",
    "bronx = boros.geometry[4]\n",
    "bx_sta = df.geometry.within(bronx)\n",
    "\n",
    "# Brooklyn\n",
    "brooklyn = boros.geometry[1]\n",
    "by_sta = df.geometry.within(brooklyn)\n",
    "\n",
    "# Queens\n",
    "queens = boros.geometry[2]\n",
    "q_sta = df.geometry.within(queens)\n",
    "\n",
    "# Stanten Island\n",
    "stanten_island = boros.geometry[0]\n",
    "si_sta = df.geometry.within(stanten_island)\n",
    "\n",
    "print (sum(m_sta), 'stations in Manhattan')\n",
    "print (sum(bx_sta), 'stations in Bronx')\n",
    "print (sum(by_sta), 'stations in Brooklyn')\n",
    "print (sum(q_sta), 'stations in Queens')\n",
    "print (sum(si_sta), 'stations in Staten Island')"
   ]
  },
  {
   "cell_type": "code",
   "execution_count": 17,
   "metadata": {
    "scrolled": false
   },
   "outputs": [
    {
     "name": "stdout",
     "output_type": "stream",
     "text": [
      "6745 bikes available in Manahattan\n",
      "0 bikes available in the Bronx\n",
      "4102 bikes available in Brooklyn\n",
      "427 bikes available in Queens\n",
      "0 bikes available in Staten Island\n"
     ]
    }
   ],
   "source": [
    "# 2. Calculate how many bikes are available in each borough\n",
    "\n",
    "print (sum(df['availableBikes'][m_sta]), 'bikes available in Manahattan')\n",
    "print (sum(df['availableBikes'][bx_sta]), 'bikes available in the Bronx')\n",
    "print (sum(df['availableBikes'][by_sta]), 'bikes available in Brooklyn')\n",
    "print (sum(df['availableBikes'][q_sta]), 'bikes available in Queens')\n",
    "print (sum(df['availableBikes'][si_sta]), 'bikes available in Staten Island')"
   ]
  },
  {
   "cell_type": "code",
   "execution_count": null,
   "metadata": {},
   "outputs": [],
   "source": []
  }
 ],
 "metadata": {
  "anaconda-cloud": {},
  "kernelspec": {
   "display_name": "Python 3",
   "language": "python",
   "name": "python3"
  },
  "language_info": {
   "codemirror_mode": {
    "name": "ipython",
    "version": 3
   },
   "file_extension": ".py",
   "mimetype": "text/x-python",
   "name": "python",
   "nbconvert_exporter": "python",
   "pygments_lexer": "ipython3",
   "version": "3.7.1"
  }
 },
 "nbformat": 4,
 "nbformat_minor": 1
}
